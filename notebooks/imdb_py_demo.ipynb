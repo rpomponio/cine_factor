{
 "cells": [
  {
   "cell_type": "code",
   "execution_count": 31,
   "metadata": {},
   "outputs": [],
   "source": [
    "from imdb import IMDb\n",
    "import numpy as np\n",
    "import pandas as pd"
   ]
  },
  {
   "cell_type": "code",
   "execution_count": 2,
   "metadata": {},
   "outputs": [],
   "source": [
    "# create an instance of the IMDb class\n",
    "ia = IMDb()"
   ]
  },
  {
   "cell_type": "markdown",
   "metadata": {},
   "source": [
    "# Search"
   ]
  },
  {
   "cell_type": "code",
   "execution_count": 3,
   "metadata": {},
   "outputs": [
    {
     "data": {
      "text/plain": [
       "[<Movie id:0133093[http] title:_The Matrix (1999)_>,\n",
       " <Movie id:0106062[http] title:_\"Matrix\" (1993)_>,\n",
       " <Movie id:11749868[http] title:_Matrix (2020)_>,\n",
       " <Movie id:0234215[http] title:_The Matrix Reloaded (2003)_>,\n",
       " <Movie id:0242653[http] title:_The Matrix Revolutions (2003)_>,\n",
       " <Movie id:0295432[http] title:_The Matrix Revisited (2001) (V)_>,\n",
       " <Movie id:0270841[http] title:_Cyber Wars (2004)_>,\n",
       " <Movie id:1842414[http] title:_Matrix IV (2010)_>,\n",
       " <Movie id:10838180[http] title:_The Matrix 4 (2021)_>,\n",
       " <Movie id:0328832[http] title:_The Animatrix (2003) (V)_>,\n",
       " <Movie id:6301452[http] title:_Matriarch (I) (2018)_>,\n",
       " <Movie id:9642498[http] title:_The Matrix (2016)_>,\n",
       " <Movie id:0277828[http] title:_Enter the Matrix (2003) (VG)_>,\n",
       " <Movie id:0364888[http] title:_\"Threat Matrix\" (2003)_>,\n",
       " <Movie id:9851526[http] title:_The Matrix (2004)_>,\n",
       " <Movie id:0390244[http] title:_The Matrix Online (2005) (VG)_>,\n",
       " <Movie id:11574780[http] title:_The Matrix Redeemed (2020)_>,\n",
       " <Movie id:0451118[http] title:_The Matrix: Path of Neo (2005) (VG)_>,\n",
       " <Movie id:5968306[http] title:_Matrix I (1971)_>,\n",
       " <Movie id:9847360[http] title:_A Glitch in the Matrix (2020)_>]"
      ]
     },
     "execution_count": 3,
     "metadata": {},
     "output_type": "execute_result"
    }
   ],
   "source": [
    "movies = ia.search_movie('matrix')\n",
    "movies"
   ]
  },
  {
   "cell_type": "code",
   "execution_count": 4,
   "metadata": {},
   "outputs": [
    {
     "data": {
      "text/plain": [
       "'0133093'"
      ]
     },
     "execution_count": 4,
     "metadata": {},
     "output_type": "execute_result"
    }
   ],
   "source": [
    "movies[0].movieID"
   ]
  },
  {
   "cell_type": "code",
   "execution_count": 5,
   "metadata": {},
   "outputs": [
    {
     "data": {
      "text/plain": [
       "[<Person id:0001401[http] name:_Angelina Jolie_>,\n",
       " <Person id:2449335[http] name:_Angelina Altishin_>,\n",
       " <Person id:5592151[http] name:_Shannan Gilbert   nickname_>,\n",
       " <Person id:7349310[http] name:_Angelina Danielle Cama_>,\n",
       " <Person id:2266551[http] name:_Angelina Assereto_>,\n",
       " <Person id:3739468[http] name:_Angelina Pivarnick_>,\n",
       " <Person id:6433618[http] name:_Angelina Capozzoli_>,\n",
       " <Person id:0629351[http] name:_Angela Nicholas_>,\n",
       " <Person id:1431940[http] name:_Evangeline Lilly_>,\n",
       " <Person id:0050337[http] name:_Angeline Ball_>,\n",
       " <Person id:2120241[http] name:_Angelica Ross_>,\n",
       " <Person id:2512132[http] name:_Angelique Cabral_>,\n",
       " <Person id:0000765[http] name:_Pier Angeli_>,\n",
       " <Person id:0029754[http] name:_Angelyne_>,\n",
       " <Person id:0596807[http] name:_Ángela Molina_>,\n",
       " <Person id:0006331[http] name:_Vangelis_>,\n",
       " <Person id:7167277[http] name:_Christina Evangeline_>,\n",
       " <Person id:3240564[http] name:_Alix Angelis_>,\n",
       " <Person id:1246238[http] name:_Valentina de Angelis_>,\n",
       " <Person id:0678821[http] name:_Angelique Pettyjohn_>]"
      ]
     },
     "execution_count": 5,
     "metadata": {},
     "output_type": "execute_result"
    }
   ],
   "source": [
    "people = ia.search_person('angelina')\n",
    "people"
   ]
  },
  {
   "cell_type": "code",
   "execution_count": 6,
   "metadata": {},
   "outputs": [
    {
     "data": {
      "text/plain": [
       "'0001401'"
      ]
     },
     "execution_count": 6,
     "metadata": {},
     "output_type": "execute_result"
    }
   ],
   "source": [
    "people[0].personID"
   ]
  },
  {
   "cell_type": "code",
   "execution_count": 7,
   "metadata": {},
   "outputs": [
    {
     "name": "stdout",
     "output_type": "stream",
     "text": [
      "0000154 Mel Gibson\n",
      "2153167 Mel Gibson\n",
      "3323885 Adam Taylor\n",
      "0317112 Mel Gibson\n",
      "2800055 Mel Gibson\n",
      "3742421 Melina Mari Bryant   nickname\n",
      "0317195 Terel Gibson\n",
      "0316945 Donal Gibson\n",
      "0316878 Cal Gibson\n",
      "2106809 Raquel Gibson\n",
      "4047961 Noel Gibson\n",
      "3912400 Jamel Gibson\n",
      "0316950 E.L. Gibson\n",
      "2798174 Daniel Gibson\n",
      "9235742 Daniel Gibson\n",
      "10402197 Daniel Gibson\n",
      "7454542 L. Gibson\n",
      "1270944 Paul Gibson\n",
      "2988370 Mal Gibson\n",
      "2987024 Ariel Gibson\n"
     ]
    }
   ],
   "source": [
    "# search for a person name\n",
    "people = ia.search_person('Mel Gibson')\n",
    "for person in people:\n",
    "   print(person.personID, person['name'])"
   ]
  },
  {
   "cell_type": "markdown",
   "metadata": {},
   "source": [
    "# Retrieving"
   ]
  },
  {
   "cell_type": "code",
   "execution_count": 18,
   "metadata": {},
   "outputs": [
    {
     "data": {
      "text/plain": [
       "<Movie id:0133093[http] title:_The Matrix (1999)_>"
      ]
     },
     "execution_count": 18,
     "metadata": {},
     "output_type": "execute_result"
    }
   ],
   "source": [
    "# get a movie\n",
    "movie = ia.get_movie('0133093')\n",
    "movie"
   ]
  },
  {
   "cell_type": "code",
   "execution_count": 16,
   "metadata": {},
   "outputs": [
    {
     "data": {
      "text/plain": [
       "['akas',\n",
       " 'animation department',\n",
       " 'art department',\n",
       " 'art directors',\n",
       " 'aspect ratio',\n",
       " 'assistant directors',\n",
       " 'box office',\n",
       " 'camera department',\n",
       " 'canonical title',\n",
       " 'cast',\n",
       " 'casting department',\n",
       " 'casting directors',\n",
       " 'certificates',\n",
       " 'cinematographers',\n",
       " 'color info',\n",
       " 'composers',\n",
       " 'costume departmen',\n",
       " 'costume designers',\n",
       " 'countries',\n",
       " 'country codes',\n",
       " 'cover url',\n",
       " 'director',\n",
       " 'directors',\n",
       " 'distributors',\n",
       " 'editorial department',\n",
       " 'editors',\n",
       " 'full-size cover url',\n",
       " 'genres',\n",
       " 'kind',\n",
       " 'language codes',\n",
       " 'languages',\n",
       " 'location management',\n",
       " 'long imdb canonical title',\n",
       " 'long imdb title',\n",
       " 'make up department',\n",
       " 'miscellaneous',\n",
       " 'music department',\n",
       " 'original air date',\n",
       " 'other companies',\n",
       " 'plot',\n",
       " 'plot outline',\n",
       " 'producers',\n",
       " 'production companies',\n",
       " 'production designers',\n",
       " 'production managers',\n",
       " 'rating',\n",
       " 'runtimes',\n",
       " 'script department',\n",
       " 'set decorators',\n",
       " 'smart canonical title',\n",
       " 'smart long imdb canonical title',\n",
       " 'sound department',\n",
       " 'sound mix',\n",
       " 'special effects',\n",
       " 'special effects companies',\n",
       " 'stunts',\n",
       " 'synopsis',\n",
       " 'title',\n",
       " 'top 250 rank',\n",
       " 'transportation department',\n",
       " 'visual effects',\n",
       " 'votes',\n",
       " 'writer',\n",
       " 'writers',\n",
       " 'year']"
      ]
     },
     "execution_count": 16,
     "metadata": {},
     "output_type": "execute_result"
    }
   ],
   "source": [
    "sorted(movie.keys())"
   ]
  },
  {
   "cell_type": "code",
   "execution_count": 9,
   "metadata": {},
   "outputs": [
    {
     "name": "stdout",
     "output_type": "stream",
     "text": [
      "Directors:\n",
      "Lana Wachowski\n",
      "Lilly Wachowski\n"
     ]
    }
   ],
   "source": [
    "# print the names of the directors of the movie\n",
    "print('Directors:')\n",
    "for director in movie['directors']:\n",
    "    print(director['name'])"
   ]
  },
  {
   "cell_type": "code",
   "execution_count": 10,
   "metadata": {},
   "outputs": [
    {
     "name": "stdout",
     "output_type": "stream",
     "text": [
      "Genres:\n",
      "Action\n",
      "Sci-Fi\n"
     ]
    }
   ],
   "source": [
    "# print the genres of the movie\n",
    "print('Genres:')\n",
    "for genre in movie['genres']:\n",
    "    print(genre)"
   ]
  },
  {
   "cell_type": "markdown",
   "metadata": {},
   "source": [
    "# Top 250"
   ]
  },
  {
   "cell_type": "code",
   "execution_count": 26,
   "metadata": {},
   "outputs": [
    {
     "data": {
      "text/plain": [
       "[<Movie id:0111161[http] title:_The Shawshank Redemption (1994)_>,\n",
       " <Movie id:0068646[http] title:_The Godfather (1972)_>,\n",
       " <Movie id:0071562[http] title:_The Godfather: Part II (1974)_>,\n",
       " <Movie id:0468569[http] title:_The Dark Knight (2008)_>,\n",
       " <Movie id:0050083[http] title:_12 Angry Men (1957)_>,\n",
       " <Movie id:0108052[http] title:_Schindler's List (1993)_>,\n",
       " <Movie id:0167260[http] title:_The Lord of the Rings: The Return of the King (2003)_>,\n",
       " <Movie id:0110912[http] title:_Pulp Fiction (1994)_>,\n",
       " <Movie id:0060196[http] title:_The Good, the Bad and the Ugly (1966)_>,\n",
       " <Movie id:0120737[http] title:_The Lord of the Rings: The Fellowship of the Ring (2001)_>]"
      ]
     },
     "execution_count": 26,
     "metadata": {},
     "output_type": "execute_result"
    }
   ],
   "source": [
    "top = ia.get_top250_movies()\n",
    "top[:10]"
   ]
  },
  {
   "cell_type": "code",
   "execution_count": 25,
   "metadata": {},
   "outputs": [
    {
     "name": "stdout",
     "output_type": "stream",
     "text": [
      "0111161\n",
      "0068646\n",
      "0071562\n",
      "0468569\n",
      "0050083\n"
     ]
    }
   ],
   "source": [
    "for i in top[:5]:\n",
    "    print(i.movieID)"
   ]
  },
  {
   "cell_type": "markdown",
   "metadata": {},
   "source": [
    "# Compile Dataset of Movie Ratings"
   ]
  },
  {
   "cell_type": "code",
   "execution_count": 36,
   "metadata": {},
   "outputs": [],
   "source": [
    "results = {'UID':[], 'Title':[], 'Rating':[]}"
   ]
  },
  {
   "cell_type": "code",
   "execution_count": 37,
   "metadata": {},
   "outputs": [],
   "source": [
    "for item in top:\n",
    "    movie = ia.get_movie(item.movieID)\n",
    "    results['UID'].append(item.movieID)\n",
    "    results['Title'].append(movie['title'])\n",
    "    results['Rating'].append(movie['rating'])"
   ]
  },
  {
   "cell_type": "code",
   "execution_count": 38,
   "metadata": {},
   "outputs": [
    {
     "data": {
      "text/html": [
       "<div>\n",
       "<style scoped>\n",
       "    .dataframe tbody tr th:only-of-type {\n",
       "        vertical-align: middle;\n",
       "    }\n",
       "\n",
       "    .dataframe tbody tr th {\n",
       "        vertical-align: top;\n",
       "    }\n",
       "\n",
       "    .dataframe thead th {\n",
       "        text-align: right;\n",
       "    }\n",
       "</style>\n",
       "<table border=\"1\" class=\"dataframe\">\n",
       "  <thead>\n",
       "    <tr style=\"text-align: right;\">\n",
       "      <th></th>\n",
       "      <th>UID</th>\n",
       "      <th>Title</th>\n",
       "      <th>Rating</th>\n",
       "    </tr>\n",
       "  </thead>\n",
       "  <tbody>\n",
       "    <tr>\n",
       "      <th>0</th>\n",
       "      <td>0111161</td>\n",
       "      <td>The Shawshank Redemption</td>\n",
       "      <td>9.3</td>\n",
       "    </tr>\n",
       "    <tr>\n",
       "      <th>1</th>\n",
       "      <td>0068646</td>\n",
       "      <td>The Godfather</td>\n",
       "      <td>9.2</td>\n",
       "    </tr>\n",
       "    <tr>\n",
       "      <th>2</th>\n",
       "      <td>0071562</td>\n",
       "      <td>The Godfather: Part II</td>\n",
       "      <td>9.0</td>\n",
       "    </tr>\n",
       "    <tr>\n",
       "      <th>3</th>\n",
       "      <td>0468569</td>\n",
       "      <td>The Dark Knight</td>\n",
       "      <td>9.0</td>\n",
       "    </tr>\n",
       "    <tr>\n",
       "      <th>4</th>\n",
       "      <td>0050083</td>\n",
       "      <td>12 Angry Men</td>\n",
       "      <td>8.9</td>\n",
       "    </tr>\n",
       "    <tr>\n",
       "      <th>...</th>\n",
       "      <td>...</td>\n",
       "      <td>...</td>\n",
       "      <td>...</td>\n",
       "    </tr>\n",
       "    <tr>\n",
       "      <th>245</th>\n",
       "      <td>2338151</td>\n",
       "      <td>PK</td>\n",
       "      <td>8.1</td>\n",
       "    </tr>\n",
       "    <tr>\n",
       "      <th>246</th>\n",
       "      <td>2015381</td>\n",
       "      <td>Guardians of the Galaxy</td>\n",
       "      <td>8.0</td>\n",
       "    </tr>\n",
       "    <tr>\n",
       "      <th>247</th>\n",
       "      <td>0107048</td>\n",
       "      <td>Groundhog Day</td>\n",
       "      <td>8.0</td>\n",
       "    </tr>\n",
       "    <tr>\n",
       "      <th>248</th>\n",
       "      <td>4430212</td>\n",
       "      <td>Drishyam</td>\n",
       "      <td>8.2</td>\n",
       "    </tr>\n",
       "    <tr>\n",
       "      <th>249</th>\n",
       "      <td>0169858</td>\n",
       "      <td>Neon Genesis Evangelion: The End of Evangelion</td>\n",
       "      <td>8.1</td>\n",
       "    </tr>\n",
       "  </tbody>\n",
       "</table>\n",
       "<p>250 rows × 3 columns</p>\n",
       "</div>"
      ],
      "text/plain": [
       "         UID                                           Title  Rating\n",
       "0    0111161                        The Shawshank Redemption     9.3\n",
       "1    0068646                                   The Godfather     9.2\n",
       "2    0071562                          The Godfather: Part II     9.0\n",
       "3    0468569                                 The Dark Knight     9.0\n",
       "4    0050083                                    12 Angry Men     8.9\n",
       "..       ...                                             ...     ...\n",
       "245  2338151                                              PK     8.1\n",
       "246  2015381                         Guardians of the Galaxy     8.0\n",
       "247  0107048                                   Groundhog Day     8.0\n",
       "248  4430212                                        Drishyam     8.2\n",
       "249  0169858  Neon Genesis Evangelion: The End of Evangelion     8.1\n",
       "\n",
       "[250 rows x 3 columns]"
      ]
     },
     "execution_count": 38,
     "metadata": {},
     "output_type": "execute_result"
    }
   ],
   "source": [
    "df_results = pd.DataFrame(results)\n",
    "df_results"
   ]
  },
  {
   "cell_type": "code",
   "execution_count": 39,
   "metadata": {},
   "outputs": [
    {
     "name": "stdout",
     "output_type": "stream",
     "text": [
      "<class 'pandas.core.frame.DataFrame'>\n",
      "RangeIndex: 250 entries, 0 to 249\n",
      "Data columns (total 3 columns):\n",
      " #   Column  Non-Null Count  Dtype  \n",
      "---  ------  --------------  -----  \n",
      " 0   UID     250 non-null    object \n",
      " 1   Title   250 non-null    object \n",
      " 2   Rating  250 non-null    float64\n",
      "dtypes: float64(1), object(2)\n",
      "memory usage: 6.0+ KB\n"
     ]
    }
   ],
   "source": [
    "df_results.info()"
   ]
  },
  {
   "cell_type": "code",
   "execution_count": 40,
   "metadata": {},
   "outputs": [],
   "source": [
    "df_results.to_csv('../data/IMDB_Top250_UID_title_rating.csv', index=False)"
   ]
  }
 ],
 "metadata": {
  "kernelspec": {
   "display_name": "Python 3",
   "language": "python",
   "name": "python3"
  },
  "language_info": {
   "codemirror_mode": {
    "name": "ipython",
    "version": 3
   },
   "file_extension": ".py",
   "mimetype": "text/x-python",
   "name": "python",
   "nbconvert_exporter": "python",
   "pygments_lexer": "ipython3",
   "version": "3.7.6"
  }
 },
 "nbformat": 4,
 "nbformat_minor": 4
}
