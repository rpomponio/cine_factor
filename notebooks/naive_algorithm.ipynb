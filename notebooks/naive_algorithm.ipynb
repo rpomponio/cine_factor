{
 "cells": [
  {
   "cell_type": "code",
   "execution_count": 1,
   "metadata": {},
   "outputs": [],
   "source": [
    "import pandas as pd\n",
    "import numpy as np\n",
    "import matplotlib.pyplot as plt\n",
    "import seaborn as sns\n",
    "from scipy import stats\n",
    "from sklearn.linear_model import LogisticRegression\n",
    "from sklearn.model_selection import GridSearchCV"
   ]
  },
  {
   "cell_type": "code",
   "execution_count": 2,
   "metadata": {},
   "outputs": [],
   "source": [
    "# plotting parameters\n",
    "%matplotlib inline\n",
    "plt.rcParams['figure.figsize'] = (7, 5)\n",
    "plt.rcParams['figure.dpi'] = 100\n",
    "plt.rcParams['figure.facecolor'] = 'w'"
   ]
  },
  {
   "cell_type": "code",
   "execution_count": 3,
   "metadata": {},
   "outputs": [
    {
     "name": "stdout",
     "output_type": "stream",
     "text": [
      "<class 'pandas.core.frame.DataFrame'>\n",
      "RangeIndex: 339 entries, 0 to 338\n",
      "Data columns (total 20 columns):\n",
      " #   Column                      Non-Null Count  Dtype  \n",
      "---  ------                      --------------  -----  \n",
      " 0   UID                         339 non-null    int64  \n",
      " 1   My_Rating                   339 non-null    float64\n",
      " 2   Budget                      329 non-null    object \n",
      " 3   Cumulative_Worldwide_Gross  302 non-null    object \n",
      " 4   Production_Company1         339 non-null    object \n",
      " 5   Synopsis                    331 non-null    object \n",
      " 6   Top_250_Rank                75 non-null     float64\n",
      " 7   Country1                    339 non-null    object \n",
      " 8   Director1                   339 non-null    object \n",
      " 9   Genre1                      339 non-null    object \n",
      " 10  Genre2                      314 non-null    object \n",
      " 11  Genre3                      246 non-null    object \n",
      " 12  Rating                      339 non-null    float64\n",
      " 13  Runtime                     339 non-null    int64  \n",
      " 14  Title                       339 non-null    object \n",
      " 15  Poster_URL                  339 non-null    object \n",
      " 16  Votes                       339 non-null    int64  \n",
      " 17  Writer1                     339 non-null    object \n",
      " 18  Writer2                     270 non-null    object \n",
      " 19  Year                        339 non-null    int64  \n",
      "dtypes: float64(3), int64(4), object(13)\n",
      "memory usage: 53.1+ KB\n"
     ]
    }
   ],
   "source": [
    "# load scraped data\n",
    "df_raw = pd.read_csv('../data/Personal_Movies_Ratings_Features.csv')\n",
    "df_raw.info()"
   ]
  },
  {
   "cell_type": "markdown",
   "metadata": {},
   "source": [
    "# Preprocess Features"
   ]
  },
  {
   "cell_type": "code",
   "execution_count": 4,
   "metadata": {},
   "outputs": [],
   "source": [
    "# df_raw.Runtime.describe()\n",
    "# df_raw.Votes.describe()\n",
    "# df_raw.Year.describe()\n",
    "# df_raw.Rating.describe()"
   ]
  },
  {
   "cell_type": "code",
   "execution_count": 5,
   "metadata": {},
   "outputs": [],
   "source": [
    "feature_columns = ['Runtime', 'Votes', 'Year', 'Rating']"
   ]
  },
  {
   "cell_type": "code",
   "execution_count": 6,
   "metadata": {},
   "outputs": [
    {
     "data": {
      "text/plain": [
       "(339, 4)"
      ]
     },
     "execution_count": 6,
     "metadata": {},
     "output_type": "execute_result"
    }
   ],
   "source": [
    "# create feature matrix\n",
    "X = df_raw.loc[:, feature_columns].values\n",
    "X.shape"
   ]
  },
  {
   "cell_type": "code",
   "execution_count": 7,
   "metadata": {},
   "outputs": [
    {
     "data": {
      "text/plain": [
       "(339,)"
      ]
     },
     "execution_count": 7,
     "metadata": {},
     "output_type": "execute_result"
    }
   ],
   "source": [
    "# binarize my rating\n",
    "y = (df_raw.My_Rating > 3).astype(int)\n",
    "y.shape"
   ]
  },
  {
   "cell_type": "markdown",
   "metadata": {},
   "source": [
    "# Split into Train/Test set"
   ]
  },
  {
   "cell_type": "code",
   "execution_count": 8,
   "metadata": {},
   "outputs": [],
   "source": [
    "np.random.seed(123)"
   ]
  },
  {
   "cell_type": "code",
   "execution_count": 9,
   "metadata": {},
   "outputs": [],
   "source": [
    "df_test = df_raw.sample(frac=0.1).copy()\n",
    "train_index = (~df_raw.UID.isin(df_test.UID))\n",
    "df_train = df_raw.loc[train_index, :].copy()"
   ]
  },
  {
   "cell_type": "code",
   "execution_count": 10,
   "metadata": {},
   "outputs": [],
   "source": [
    "X_train = X[train_index, :]\n",
    "X_test = X[~train_index, :]\n",
    "y_train = y[train_index]\n",
    "y_test = y[~train_index]"
   ]
  },
  {
   "cell_type": "code",
   "execution_count": 11,
   "metadata": {},
   "outputs": [
    {
     "data": {
      "text/plain": [
       "1    187\n",
       "0    118\n",
       "Name: My_Rating, dtype: int64"
      ]
     },
     "execution_count": 11,
     "metadata": {},
     "output_type": "execute_result"
    }
   ],
   "source": [
    "y_train.value_counts()"
   ]
  },
  {
   "cell_type": "markdown",
   "metadata": {},
   "source": [
    "# Logistic Regression with Cross-Validated Grid Search"
   ]
  },
  {
   "cell_type": "code",
   "execution_count": 12,
   "metadata": {},
   "outputs": [
    {
     "data": {
      "text/plain": [
       "0.6163934426229508"
      ]
     },
     "execution_count": 12,
     "metadata": {},
     "output_type": "execute_result"
    }
   ],
   "source": [
    "# in-sample score with default parameters\n",
    "clf = LogisticRegression(random_state=0).fit(X_train, y_train)\n",
    "clf.score(X_train, y_train)"
   ]
  },
  {
   "cell_type": "code",
   "execution_count": 13,
   "metadata": {},
   "outputs": [
    {
     "name": "stdout",
     "output_type": "stream",
     "text": [
      "Fitting 10 folds for each of 40 candidates, totalling 400 fits\n"
     ]
    },
    {
     "name": "stderr",
     "output_type": "stream",
     "text": [
      "[Parallel(n_jobs=1)]: Using backend SequentialBackend with 1 concurrent workers.\n",
      "[Parallel(n_jobs=1)]: Done 400 out of 400 | elapsed:    5.4s finished\n"
     ]
    }
   ],
   "source": [
    "# tune parameters with grid-search\n",
    "parameters = {'class_weight': ['balanced', None], 'C':np.exp(np.arange(-50, 50, 5))}\n",
    "clf_grid = GridSearchCV(clf, parameters, scoring='accuracy', cv=10, verbose=1)\n",
    "clf_grid.fit(X_train, y_train);"
   ]
  },
  {
   "cell_type": "code",
   "execution_count": 14,
   "metadata": {},
   "outputs": [
    {
     "name": "stdout",
     "output_type": "stream",
     "text": [
      "<class 'pandas.core.frame.DataFrame'>\n",
      "RangeIndex: 40 entries, 0 to 39\n",
      "Data columns (total 21 columns):\n",
      " #   Column              Non-Null Count  Dtype  \n",
      "---  ------              --------------  -----  \n",
      " 0   mean_fit_time       40 non-null     float64\n",
      " 1   std_fit_time        40 non-null     float64\n",
      " 2   mean_score_time     40 non-null     float64\n",
      " 3   std_score_time      40 non-null     float64\n",
      " 4   param_C             40 non-null     object \n",
      " 5   param_class_weight  40 non-null     bool   \n",
      " 6   params              40 non-null     object \n",
      " 7   split0_test_score   40 non-null     float64\n",
      " 8   split1_test_score   40 non-null     float64\n",
      " 9   split2_test_score   40 non-null     float64\n",
      " 10  split3_test_score   40 non-null     float64\n",
      " 11  split4_test_score   40 non-null     float64\n",
      " 12  split5_test_score   40 non-null     float64\n",
      " 13  split6_test_score   40 non-null     float64\n",
      " 14  split7_test_score   40 non-null     float64\n",
      " 15  split8_test_score   40 non-null     float64\n",
      " 16  split9_test_score   40 non-null     float64\n",
      " 17  mean_test_score     40 non-null     float64\n",
      " 18  std_test_score      40 non-null     float64\n",
      " 19  rank_test_score     40 non-null     int32  \n",
      " 20  param_C_log         40 non-null     float64\n",
      "dtypes: bool(1), float64(17), int32(1), object(2)\n",
      "memory usage: 6.3+ KB\n"
     ]
    }
   ],
   "source": [
    "# cv results\n",
    "df_cv_results = pd.DataFrame(clf_grid.cv_results_)\n",
    "df_cv_results.loc[:, 'param_C_log'] = np.log(df_cv_results.param_C.astype(float))\n",
    "df_cv_results.loc[:, 'param_class_weight'] = ~df_cv_results.param_class_weight.isnull()\n",
    "df_cv_results.info()"
   ]
  },
  {
   "cell_type": "code",
   "execution_count": 15,
   "metadata": {},
   "outputs": [
    {
     "data": {
      "image/png": "[encoded data removed]",
      "text/plain": [
       "<Figure size 700x500 with 1 Axes>"
      ]
     },
     "metadata": {},
     "output_type": "display_data"
    }
   ],
   "source": [
    "# plot score versus cost, C\n",
    "sns.lineplot(x='param_C_log', y='mean_test_score', data=df_cv_results, hue='param_class_weight')\n",
    "plt.show()"
   ]
  },
  {
   "cell_type": "code",
   "execution_count": 16,
   "metadata": {},
   "outputs": [
    {
     "data": {
      "text/plain": [
       "0.6361290322580644"
      ]
     },
     "execution_count": 16,
     "metadata": {},
     "output_type": "execute_result"
    }
   ],
   "source": [
    "# best score with tuned parameters\n",
    "clf_grid.best_score_"
   ]
  },
  {
   "cell_type": "code",
   "execution_count": 17,
   "metadata": {},
   "outputs": [],
   "source": [
    "# view predictions of best estimator\n",
    "df_train.loc[:, 'Predicted_Prob'] = clf_grid.best_estimator_.predict_proba(X_train)[:, 1]"
   ]
  },
  {
   "cell_type": "code",
   "execution_count": 18,
   "metadata": {},
   "outputs": [
    {
     "data": {
      "image/png": "[encoded data removed]",
      "text/plain": [
       "<Figure size 700x500 with 1 Axes>"
      ]
     },
     "metadata": {},
     "output_type": "display_data"
    }
   ],
   "source": [
    "# view correlation with my rating\n",
    "sns.scatterplot(x='Predicted_Prob', y='My_Rating', data=df_train)\n",
    "plt.title('Peasron Correlation: %0.3f, P-value: %0.3f' %\n",
    "          stats.pearsonr(df_train.Predicted_Prob, df_train.My_Rating))\n",
    "plt.show()"
   ]
  },
  {
   "cell_type": "code",
   "execution_count": 19,
   "metadata": {},
   "outputs": [
    {
     "data": {
      "image/png": "[encoded data removed]",
      "text/plain": [
       "<Figure size 700x500 with 1 Axes>"
      ]
     },
     "metadata": {},
     "output_type": "display_data"
    }
   ],
   "source": [
    "sns.distplot(df_train.Predicted_Prob[df_train.My_Rating>3], hist=False, label='true_positive')\n",
    "sns.distplot(df_train.Predicted_Prob[df_train.My_Rating<3], hist=False, label='true_negative')\n",
    "plt.show()"
   ]
  },
  {
   "cell_type": "code",
   "execution_count": 20,
   "metadata": {},
   "outputs": [
    {
     "data": {
      "text/html": [
       "<div>\n",
       "<style scoped>\n",
       "    .dataframe tbody tr th:only-of-type {\n",
       "        vertical-align: middle;\n",
       "    }\n",
       "\n",
       "    .dataframe tbody tr th {\n",
       "        vertical-align: top;\n",
       "    }\n",
       "\n",
       "    .dataframe thead th {\n",
       "        text-align: right;\n",
       "    }\n",
       "</style>\n",
       "<table border=\"1\" class=\"dataframe\">\n",
       "  <thead>\n",
       "    <tr style=\"text-align: right;\">\n",
       "      <th></th>\n",
       "      <th>Title</th>\n",
       "      <th>My_Rating</th>\n",
       "      <th>Predicted_Prob</th>\n",
       "      <th>Runtime</th>\n",
       "      <th>Votes</th>\n",
       "      <th>Year</th>\n",
       "      <th>Rating</th>\n",
       "    </tr>\n",
       "  </thead>\n",
       "  <tbody>\n",
       "    <tr>\n",
       "      <th>145</th>\n",
       "      <td>Memento</td>\n",
       "      <td>3.0</td>\n",
       "      <td>0.851423</td>\n",
       "      <td>113</td>\n",
       "      <td>1072090</td>\n",
       "      <td>2000</td>\n",
       "      <td>8.4</td>\n",
       "    </tr>\n",
       "    <tr>\n",
       "      <th>181</th>\n",
       "      <td>Titanic</td>\n",
       "      <td>3.0</td>\n",
       "      <td>0.832396</td>\n",
       "      <td>194</td>\n",
       "      <td>999023</td>\n",
       "      <td>1997</td>\n",
       "      <td>7.8</td>\n",
       "    </tr>\n",
       "    <tr>\n",
       "      <th>183</th>\n",
       "      <td>Catch Me If You Can</td>\n",
       "      <td>3.0</td>\n",
       "      <td>0.760339</td>\n",
       "      <td>141</td>\n",
       "      <td>769746</td>\n",
       "      <td>2002</td>\n",
       "      <td>8.1</td>\n",
       "    </tr>\n",
       "    <tr>\n",
       "      <th>254</th>\n",
       "      <td>Deadpool</td>\n",
       "      <td>2.0</td>\n",
       "      <td>0.791700</td>\n",
       "      <td>108</td>\n",
       "      <td>863287</td>\n",
       "      <td>2016</td>\n",
       "      <td>8.0</td>\n",
       "    </tr>\n",
       "    <tr>\n",
       "      <th>316</th>\n",
       "      <td>The Terminator</td>\n",
       "      <td>3.0</td>\n",
       "      <td>0.760038</td>\n",
       "      <td>107</td>\n",
       "      <td>767109</td>\n",
       "      <td>1984</td>\n",
       "      <td>8.0</td>\n",
       "    </tr>\n",
       "  </tbody>\n",
       "</table>\n",
       "</div>"
      ],
      "text/plain": [
       "                   Title  My_Rating  Predicted_Prob  Runtime    Votes  Year  \\\n",
       "145              Memento        3.0        0.851423      113  1072090  2000   \n",
       "181              Titanic        3.0        0.832396      194   999023  1997   \n",
       "183  Catch Me If You Can        3.0        0.760339      141   769746  2002   \n",
       "254             Deadpool        2.0        0.791700      108   863287  2016   \n",
       "316       The Terminator        3.0        0.760038      107   767109  1984   \n",
       "\n",
       "     Rating  \n",
       "145     8.4  \n",
       "181     7.8  \n",
       "183     8.1  \n",
       "254     8.0  \n",
       "316     8.0  "
      ]
     },
     "execution_count": 20,
     "metadata": {},
     "output_type": "execute_result"
    }
   ],
   "source": [
    "# identify worst predictions that were true negatives\n",
    "df_train.loc[(y_train==0)&(df_train.Predicted_Prob>0.75), ['Title', 'My_Rating', 'Predicted_Prob']+feature_columns]"
   ]
  },
  {
   "cell_type": "code",
   "execution_count": 21,
   "metadata": {},
   "outputs": [
    {
     "data": {
      "text/html": [
       "<div>\n",
       "<style scoped>\n",
       "    .dataframe tbody tr th:only-of-type {\n",
       "        vertical-align: middle;\n",
       "    }\n",
       "\n",
       "    .dataframe tbody tr th {\n",
       "        vertical-align: top;\n",
       "    }\n",
       "\n",
       "    .dataframe thead th {\n",
       "        text-align: right;\n",
       "    }\n",
       "</style>\n",
       "<table border=\"1\" class=\"dataframe\">\n",
       "  <thead>\n",
       "    <tr style=\"text-align: right;\">\n",
       "      <th></th>\n",
       "      <th>Title</th>\n",
       "      <th>My_Rating</th>\n",
       "      <th>Predicted_Prob</th>\n",
       "      <th>Runtime</th>\n",
       "      <th>Votes</th>\n",
       "      <th>Year</th>\n",
       "      <th>Rating</th>\n",
       "    </tr>\n",
       "  </thead>\n",
       "  <tbody>\n",
       "    <tr>\n",
       "      <th>18</th>\n",
       "      <td>Thunderball</td>\n",
       "      <td>4.0</td>\n",
       "      <td>0.463232</td>\n",
       "      <td>130</td>\n",
       "      <td>99942</td>\n",
       "      <td>1965</td>\n",
       "      <td>7.0</td>\n",
       "    </tr>\n",
       "    <tr>\n",
       "      <th>158</th>\n",
       "      <td>Kubo and the Two Strings</td>\n",
       "      <td>4.0</td>\n",
       "      <td>0.466899</td>\n",
       "      <td>101</td>\n",
       "      <td>111855</td>\n",
       "      <td>2016</td>\n",
       "      <td>7.8</td>\n",
       "    </tr>\n",
       "    <tr>\n",
       "      <th>160</th>\n",
       "      <td>The Founder</td>\n",
       "      <td>4.0</td>\n",
       "      <td>0.465605</td>\n",
       "      <td>115</td>\n",
       "      <td>109272</td>\n",
       "      <td>2016</td>\n",
       "      <td>7.2</td>\n",
       "    </tr>\n",
       "    <tr>\n",
       "      <th>173</th>\n",
       "      <td>Fast Times at Ridgemont High</td>\n",
       "      <td>4.0</td>\n",
       "      <td>0.457145</td>\n",
       "      <td>90</td>\n",
       "      <td>88682</td>\n",
       "      <td>1982</td>\n",
       "      <td>7.2</td>\n",
       "    </tr>\n",
       "    <tr>\n",
       "      <th>188</th>\n",
       "      <td>Creep</td>\n",
       "      <td>4.0</td>\n",
       "      <td>0.430205</td>\n",
       "      <td>77</td>\n",
       "      <td>35565</td>\n",
       "      <td>2014</td>\n",
       "      <td>6.3</td>\n",
       "    </tr>\n",
       "    <tr>\n",
       "      <th>232</th>\n",
       "      <td>Holes</td>\n",
       "      <td>4.0</td>\n",
       "      <td>0.448763</td>\n",
       "      <td>117</td>\n",
       "      <td>73384</td>\n",
       "      <td>2003</td>\n",
       "      <td>7.0</td>\n",
       "    </tr>\n",
       "    <tr>\n",
       "      <th>237</th>\n",
       "      <td>National Lampoon's Animal House</td>\n",
       "      <td>5.0</td>\n",
       "      <td>0.466656</td>\n",
       "      <td>109</td>\n",
       "      <td>108024</td>\n",
       "      <td>1978</td>\n",
       "      <td>7.5</td>\n",
       "    </tr>\n",
       "    <tr>\n",
       "      <th>243</th>\n",
       "      <td>The Sandlot</td>\n",
       "      <td>4.0</td>\n",
       "      <td>0.449943</td>\n",
       "      <td>101</td>\n",
       "      <td>74847</td>\n",
       "      <td>1993</td>\n",
       "      <td>7.8</td>\n",
       "    </tr>\n",
       "    <tr>\n",
       "      <th>271</th>\n",
       "      <td>Patriot Games</td>\n",
       "      <td>4.0</td>\n",
       "      <td>0.461281</td>\n",
       "      <td>117</td>\n",
       "      <td>98250</td>\n",
       "      <td>1992</td>\n",
       "      <td>6.9</td>\n",
       "    </tr>\n",
       "    <tr>\n",
       "      <th>281</th>\n",
       "      <td>My Cousin Vinny</td>\n",
       "      <td>4.0</td>\n",
       "      <td>0.462592</td>\n",
       "      <td>120</td>\n",
       "      <td>100966</td>\n",
       "      <td>1992</td>\n",
       "      <td>7.6</td>\n",
       "    </tr>\n",
       "    <tr>\n",
       "      <th>288</th>\n",
       "      <td>The Killing of a Sacred Deer</td>\n",
       "      <td>4.0</td>\n",
       "      <td>0.463267</td>\n",
       "      <td>121</td>\n",
       "      <td>104584</td>\n",
       "      <td>2017</td>\n",
       "      <td>7.1</td>\n",
       "    </tr>\n",
       "    <tr>\n",
       "      <th>325</th>\n",
       "      <td>The Lighthouse</td>\n",
       "      <td>4.0</td>\n",
       "      <td>0.455209</td>\n",
       "      <td>109</td>\n",
       "      <td>88084</td>\n",
       "      <td>2019</td>\n",
       "      <td>7.7</td>\n",
       "    </tr>\n",
       "  </tbody>\n",
       "</table>\n",
       "</div>"
      ],
      "text/plain": [
       "                               Title  My_Rating  Predicted_Prob  Runtime  \\\n",
       "18                       Thunderball        4.0        0.463232      130   \n",
       "158         Kubo and the Two Strings        4.0        0.466899      101   \n",
       "160                      The Founder        4.0        0.465605      115   \n",
       "173     Fast Times at Ridgemont High        4.0        0.457145       90   \n",
       "188                            Creep        4.0        0.430205       77   \n",
       "232                            Holes        4.0        0.448763      117   \n",
       "237  National Lampoon's Animal House        5.0        0.466656      109   \n",
       "243                      The Sandlot        4.0        0.449943      101   \n",
       "271                    Patriot Games        4.0        0.461281      117   \n",
       "281                  My Cousin Vinny        4.0        0.462592      120   \n",
       "288     The Killing of a Sacred Deer        4.0        0.463267      121   \n",
       "325                   The Lighthouse        4.0        0.455209      109   \n",
       "\n",
       "      Votes  Year  Rating  \n",
       "18    99942  1965     7.0  \n",
       "158  111855  2016     7.8  \n",
       "160  109272  2016     7.2  \n",
       "173   88682  1982     7.2  \n",
       "188   35565  2014     6.3  \n",
       "232   73384  2003     7.0  \n",
       "237  108024  1978     7.5  \n",
       "243   74847  1993     7.8  \n",
       "271   98250  1992     6.9  \n",
       "281  100966  1992     7.6  \n",
       "288  104584  2017     7.1  \n",
       "325   88084  2019     7.7  "
      ]
     },
     "execution_count": 21,
     "metadata": {},
     "output_type": "execute_result"
    }
   ],
   "source": [
    "# identify worst predictions that were true positives\n",
    "df_train.loc[(y_train==1)&(df_train.Predicted_Prob<0.47), ['Title', 'My_Rating', 'Predicted_Prob']+feature_columns]"
   ]
  },
  {
   "cell_type": "code",
   "execution_count": 22,
   "metadata": {},
   "outputs": [
    {
     "data": {
      "text/plain": [
       "Runtime   -0.110429\n",
       "Votes      0.019534\n",
       "Year      -1.736032\n",
       "Rating    -0.002261\n",
       "dtype: float64"
      ]
     },
     "execution_count": 22,
     "metadata": {},
     "output_type": "execute_result"
    }
   ],
   "source": [
    "# coefficient of the best estimator\n",
    "coef = pd.Series(clf_grid.best_estimator_.coef_[0])\n",
    "coef.index = feature_columns\n",
    "coef * 10000"
   ]
  },
  {
   "cell_type": "code",
   "execution_count": 23,
   "metadata": {},
   "outputs": [
    {
     "data": {
      "text/plain": [
       "'Year'"
      ]
     },
     "execution_count": 23,
     "metadata": {},
     "output_type": "execute_result"
    }
   ],
   "source": [
    "# max coefficient of the best estimator\n",
    "feature_columns[np.argmax(np.abs(clf_grid.best_estimator_.coef_))]"
   ]
  },
  {
   "cell_type": "code",
   "execution_count": 24,
   "metadata": {},
   "outputs": [
    {
     "data": {
      "text/plain": [
       "0.7352941176470589"
      ]
     },
     "execution_count": 24,
     "metadata": {},
     "output_type": "execute_result"
    }
   ],
   "source": [
    "# out-of-sample score with tuned parameters\n",
    "clf_grid.best_estimator_.score(X_test, y_test)"
   ]
  },
  {
   "cell_type": "code",
   "execution_count": null,
   "metadata": {},
   "outputs": [],
   "source": []
  },
  {
   "cell_type": "code",
   "execution_count": null,
   "metadata": {},
   "outputs": [],
   "source": []
  }
 ],
 "metadata": {
  "kernelspec": {
   "display_name": "Python 3",
   "language": "python",
   "name": "python3"
  },
  "language_info": {
   "codemirror_mode": {
    "name": "ipython",
    "version": 3
   },
   "file_extension": ".py",
   "mimetype": "text/x-python",
   "name": "python",
   "nbconvert_exporter": "python",
   "pygments_lexer": "ipython3",
   "version": "3.7.6"
  }
 },
 "nbformat": 4,
 "nbformat_minor": 4
}
